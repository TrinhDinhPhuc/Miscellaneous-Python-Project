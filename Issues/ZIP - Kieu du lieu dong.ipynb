{
 "cells": [
  {
   "cell_type": "code",
   "execution_count": 39,
   "metadata": {
    "collapsed": false
   },
   "outputs": [
    {
     "name": "stdout",
     "output_type": "stream",
     "text": [
      "1 54 VN VN-big\n",
      "2 64 TQ TQ-big\n",
      "3 74 Lao Lao-big\n",
      "4 84 Thai Thai-big\n",
      "4\n"
     ]
    }
   ],
   "source": [
    "l1=[1,2,3,4]\n",
    "l2=[54,64,74,84]\n",
    "l3=[\"VN\",\"TQ\",\"Lao\",\"Thai\"]\n",
    "l4=[\"VN-big\",\"TQ-big\",'Lao-big','Thai-big']\n",
    "z=zip(l1,l2,l3,l4) \n",
    "z\n",
    "for l1,l2,l3,l4 in z:\n",
    "    print(l1,l2,l3,l4)\n",
    "    \n",
    "print(l1)"
   ]
  },
  {
   "cell_type": "markdown",
   "metadata": {},
   "source": [
    "\n",
    "Return a zip object whose .__next__() method returns a tuple where\n",
    "the i-th element comes from the i-th iterable argument.  The .__next__()\n",
    "method continues until the shortest iterable in the argument sequence\n",
    "is exhausted and then it raises StopIteration."
   ]
  },
  {
   "cell_type": "code",
   "execution_count": 41,
   "metadata": {
    "collapsed": false
   },
   "outputs": [
    {
     "name": "stdout",
     "output_type": "stream",
     "text": [
      "1 54 VN VN-big\n",
      "2 64 TQ TQ-big\n",
      "3 74 Lao Lao-big\n",
      "4 84 Thai Thai-big\n",
      "[1, 2, 3, 4]\n"
     ]
    }
   ],
   "source": [
    "l1=[1,2,3,4]\n",
    "l2=[54,64,74,84]\n",
    "l3=[\"VN\",\"TQ\",\"Lao\",\"Thai\"]\n",
    "l4=[\"VN-big\",\"TQ-big\",'Lao-big','Thai-big']\n",
    "z=zip(l1,l2,l3,l4) \n",
    "z\n",
    "for a,b,c,d in z:\n",
    "    print(a,b,c,d)\n",
    "    \n",
    "print(l1)"
   ]
  },
  {
   "cell_type": "markdown",
   "metadata": {},
   "source": [
    "- Cái FOR đó dùng để duyệt tuple, bạn dùng lại tên biến nên bị overwritten rồi còn gì.\n",
    "for l1,l2,l3,l4 in z:\n",
    "nghĩa là giá trị của l1,l2,l3,l4 trong từng lần lặp lần lượt là (1,5, C.., I..) rồi (2,6,P..,F)... cuối cùng là (4,8,H..,V..)\n",
    "Nghĩa là ra khỏi vòng for: l1=4, l2=8, l3=Ha Noi, l4= Viet Nam. \n",
    "Lựa chọn đúng là dùng tên biến khác khi lặp for :D"
   ]
  },
  {
   "cell_type": "code",
   "execution_count": null,
   "metadata": {
    "collapsed": true
   },
   "outputs": [],
   "source": []
  }
 ],
 "metadata": {
  "kernelspec": {
   "display_name": "Python 3",
   "language": "python",
   "name": "python3"
  },
  "language_info": {
   "codemirror_mode": {
    "name": "ipython",
    "version": 3
   },
   "file_extension": ".py",
   "mimetype": "text/x-python",
   "name": "python",
   "nbconvert_exporter": "python",
   "pygments_lexer": "ipython3",
   "version": "3.6.0"
  }
 },
 "nbformat": 4,
 "nbformat_minor": 2
}
