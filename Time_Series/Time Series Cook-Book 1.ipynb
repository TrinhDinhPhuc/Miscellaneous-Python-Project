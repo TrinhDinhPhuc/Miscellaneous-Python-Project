{
 "cells": [
  {
   "cell_type": "markdown",
   "metadata": {
    "collapsed": true
   },
   "source": [
    "# Time Series "
   ]
  },
  {
   "cell_type": "markdown",
   "metadata": {},
   "source": [
    "#### In general, time series serve two purposes\n",
    "- First, they help us to learn about the <strong> underlying process </strong> that generated the data.\n",
    "- We would like to be able to<strong> forecast future values of the same or related series using existing data </strong>. When\n",
    "we measure temperature, precipitation or wind, we would like to learn more about\n",
    "more complex things, such as weather or the climate of a region and how various\n",
    "factors interact. At the same time, we might be interested in weather forecasting."
   ]
  },
  {
   "cell_type": "markdown",
   "metadata": {},
   "source": [
    "#### In this chapter we will explore the time series capabilities of Pandas.\n",
    "- Apart from its powerful core data structures – the series and the DataFrame – Pandas comes\n",
    "with helper functions for dealing with time related data. With its extensive built-in\n",
    "optimizations, Pandas is capable of handling large time series with millions of data\n",
    "points with ease."
   ]
  },
  {
   "cell_type": "markdown",
   "metadata": {},
   "source": [
    "## Ở phần này:\n",
    "#### Python hỗ trợ xử lý Data & Time Với thư viện Datetime\n",
    "#### Ta có thể xử dụng DataFrame và Series \n",
    "#### Sử dụng hàm to_Datetime \n",
    "\n",
    "  - df = pd.DataFrame({' year': [2015, 2016],\n",
    "\n",
    "                  'month': [2, 3],\n",
    "                  \n",
    "                    'day': [4, 5]\n",
    "                  })\n",
    "pd.to_datetime(df)\n",
    "\n",
    "  - ts = pd.Series(np.random.randn(len(index)), index=[\"2000-01-01\", \"2000-01-02\", \"2000-01-03\"])\n",
    " \n",
    "tsindex = pd.to_datetime([\"2000-01-01\", \"2000-01-02\", \"2000-01-03\"])\n",
    "\n",
    "#### Với Pandas ta có thể tạo ra 1 range date với hàm date_range "
   ]
  },
  {
   "cell_type": "markdown",
   "metadata": {},
   "source": [
    "# Time series primer"
   ]
  },
  {
   "cell_type": "markdown",
   "metadata": {},
   "source": [
    "## 1. Working with date and time objects\n",
    "\n",
    "###### Python supports date and time handling in the date time and time modules from the standard library:"
   ]
  },
  {
   "cell_type": "code",
   "execution_count": 41,
   "metadata": {
    "collapsed": true
   },
   "outputs": [],
   "source": [
    "import datetime \n",
    "%matplotlib inline"
   ]
  },
  {
   "cell_type": "code",
   "execution_count": 2,
   "metadata": {
    "collapsed": false
   },
   "outputs": [
    {
     "data": {
      "text/plain": [
       "datetime.datetime(2000, 1, 1, 0, 0)"
      ]
     },
     "execution_count": 2,
     "metadata": {},
     "output_type": "execute_result"
    }
   ],
   "source": [
    "datetime.datetime(2000,1,1)"
   ]
  },
  {
   "cell_type": "markdown",
   "metadata": {},
   "source": [
    "- Sometimes, dates are given or expected as strings, so a conversion from or to strings is necessary, which is realized by two functions: strptime and strftime, respectively:"
   ]
  },
  {
   "cell_type": "code",
   "execution_count": 3,
   "metadata": {
    "collapsed": false
   },
   "outputs": [
    {
     "data": {
      "text/plain": [
       "datetime.datetime"
      ]
     },
     "execution_count": 3,
     "metadata": {},
     "output_type": "execute_result"
    }
   ],
   "source": [
    "type(datetime.datetime(2000,1,1))"
   ]
  },
  {
   "cell_type": "code",
   "execution_count": 4,
   "metadata": {
    "collapsed": false
   },
   "outputs": [
    {
     "data": {
      "text/plain": [
       "'20000101'"
      ]
     },
     "execution_count": 4,
     "metadata": {},
     "output_type": "execute_result"
    }
   ],
   "source": [
    "datetime.datetime(2000,1,1).strftime(\"%Y%m%d\")"
   ]
  },
  {
   "cell_type": "code",
   "execution_count": 5,
   "metadata": {
    "collapsed": false
   },
   "outputs": [
    {
     "data": {
      "text/plain": [
       "str"
      ]
     },
     "execution_count": 5,
     "metadata": {},
     "output_type": "execute_result"
    }
   ],
   "source": [
    "type(datetime.datetime(2000,1,1).strftime(\"%Y%m%d\"))"
   ]
  },
  {
   "cell_type": "code",
   "execution_count": 6,
   "metadata": {
    "collapsed": false
   },
   "outputs": [
    {
     "data": {
      "text/plain": [
       "datetime.datetime(2000, 1, 1, 0, 0)"
      ]
     },
     "execution_count": 6,
     "metadata": {},
     "output_type": "execute_result"
    }
   ],
   "source": [
    "datetime.datetime.strptime(\"2000/1/1\", \"%Y/%m/%d\")"
   ]
  },
  {
   "cell_type": "code",
   "execution_count": 7,
   "metadata": {
    "collapsed": false
   },
   "outputs": [
    {
     "data": {
      "text/plain": [
       "datetime.datetime"
      ]
     },
     "execution_count": 7,
     "metadata": {},
     "output_type": "execute_result"
    }
   ],
   "source": [
    "type(datetime.datetime.strptime(\"2000/1/1\", \"%Y/%m/%d\"))"
   ]
  },
  {
   "cell_type": "markdown",
   "metadata": {},
   "source": [
    "- Real-world data usually comes in all kinds of shapes and it would be great if we did\n",
    "not need to remember the ex4act date format specifes for parsing. Thankfully, Pandas\n",
    "abstracts away a lot of the friction, when dealing with strings representing dates or\n",
    "time. One of these helper functions is to_datetime:"
   ]
  },
  {
   "cell_type": "code",
   "execution_count": 8,
   "metadata": {
    "collapsed": false
   },
   "outputs": [],
   "source": [
    "import numpy as np\n",
    "import pandas as pd"
   ]
  },
  {
   "cell_type": "code",
   "execution_count": 9,
   "metadata": {
    "collapsed": false
   },
   "outputs": [
    {
     "data": {
      "text/plain": [
       "0   2015-02-04\n",
       "1   2016-03-05\n",
       "dtype: datetime64[ns]"
      ]
     },
     "execution_count": 9,
     "metadata": {},
     "output_type": "execute_result"
    }
   ],
   "source": [
    "df = pd.DataFrame({'year': [2015, 2016],\n",
    "                  'month': [2, 3],\n",
    "                    'day': [4, 5]\n",
    "                  })\n",
    "pd.to_datetime(df)"
   ]
  },
  {
   "cell_type": "code",
   "execution_count": null,
   "metadata": {
    "collapsed": true
   },
   "outputs": [],
   "source": []
  },
  {
   "cell_type": "code",
   "execution_count": 10,
   "metadata": {
    "collapsed": false
   },
   "outputs": [
    {
     "data": {
      "text/plain": [
       "Timestamp('2000-07-08 04:08:06')"
      ]
     },
     "execution_count": 10,
     "metadata": {},
     "output_type": "execute_result"
    }
   ],
   "source": [
    "pd.to_datetime(\"04:08:06 7-8-2000\")"
   ]
  },
  {
   "cell_type": "code",
   "execution_count": 11,
   "metadata": {
    "collapsed": false
   },
   "outputs": [
    {
     "data": {
      "text/plain": [
       "Timestamp('2012-07-04 15:05:06')"
      ]
     },
     "execution_count": 11,
     "metadata": {},
     "output_type": "execute_result"
    }
   ],
   "source": [
    "pd.to_datetime(\"15:05:06 4th of July of 2012\")"
   ]
  },
  {
   "cell_type": "code",
   "execution_count": 12,
   "metadata": {
    "collapsed": false
   },
   "outputs": [
    {
     "data": {
      "text/plain": [
       "Timestamp('2000-01-13 00:00:00')"
      ]
     },
     "execution_count": 12,
     "metadata": {},
     "output_type": "execute_result"
    }
   ],
   "source": [
    "pd.to_datetime(\"13.01.2000\")"
   ]
  },
  {
   "cell_type": "code",
   "execution_count": 13,
   "metadata": {
    "collapsed": false
   },
   "outputs": [
    {
     "data": {
      "text/plain": [
       "Timestamp('2000-07-08 00:00:00')"
      ]
     },
     "execution_count": 13,
     "metadata": {},
     "output_type": "execute_result"
    }
   ],
   "source": [
    "pd.to_datetime(\"7/8/2000\")"
   ]
  },
  {
   "cell_type": "markdown",
   "metadata": {},
   "source": [
    "- The last can refer to August 7th or July 8th, depending on the region. To <strong> disambiguate (làm cho thành một nghĩa) </strong> this case, to_datetime can be passed a keyword argument <strong> dayfirst </strong>:"
   ]
  },
  {
   "cell_type": "code",
   "execution_count": 14,
   "metadata": {
    "collapsed": false
   },
   "outputs": [
    {
     "data": {
      "text/plain": [
       "Timestamp('2000-08-07 00:00:00')"
      ]
     },
     "execution_count": 14,
     "metadata": {},
     "output_type": "execute_result"
    }
   ],
   "source": [
    "pd.to_datetime(\"7/8/2000\", dayfirst=True) "
   ]
  },
  {
   "cell_type": "markdown",
   "metadata": {},
   "source": [
    "- Timestamp objects can be seen as Pandas' version of datetime objects and indeed, the Timestamp class is a c of datetime\n",
    "\n",
    "- @subclass\n",
    "\n",
    "(logic học) lớp con\n",
    "\n",
    "unequal s.es (thống kê) các nhóm con không đều nhau"
   ]
  },
  {
   "cell_type": "code",
   "execution_count": 15,
   "metadata": {
    "collapsed": false
   },
   "outputs": [
    {
     "data": {
      "text/plain": [
       "True"
      ]
     },
     "execution_count": 15,
     "metadata": {},
     "output_type": "execute_result"
    }
   ],
   "source": [
    "issubclass(pd.Timestamp, datetime.datetime)"
   ]
  },
  {
   "cell_type": "markdown",
   "metadata": {},
   "source": [
    "- Which means they can be used interchangeably in many cases:"
   ]
  },
  {
   "cell_type": "code",
   "execution_count": 16,
   "metadata": {
    "collapsed": false
   },
   "outputs": [
    {
     "data": {
      "text/plain": [
       "Timestamp('1992-09-06 13:06:40.000854700')"
      ]
     },
     "execution_count": 16,
     "metadata": {},
     "output_type": "execute_result"
    }
   ],
   "source": [
    "ts = pd.to_datetime(715784800000854700)\n",
    "ts"
   ]
  },
  {
   "cell_type": "code",
   "execution_count": 17,
   "metadata": {
    "collapsed": false
   },
   "outputs": [
    {
     "data": {
      "text/plain": [
       "(1992, 9, 6, 6, 250, 30, 30, 6, Timestamp('2017-12-25 21:53:47.252985'))"
      ]
     },
     "execution_count": 17,
     "metadata": {},
     "output_type": "execute_result"
    }
   ],
   "source": [
    "ts.year, ts.month, ts.day, ts.dayofweek, ts.dayofyear,ts.days_in_month,ts.daysinmonth, ts.weekday(), ts.today()"
   ]
  },
  {
   "cell_type": "markdown",
   "metadata": {},
   "source": [
    "- Timestamp objects are an important part of time series capabilities of Pandas, since timestamps are the building block of DateTimeIndex objects:"
   ]
  },
  {
   "cell_type": "code",
   "execution_count": 18,
   "metadata": {
    "collapsed": true
   },
   "outputs": [],
   "source": [
    "index = [pd.Timestamp(\"2000-01-01\"),\n",
    "pd.Timestamp(\"2000-01-02\"),\n",
    "pd.Timestamp(\"2000-01-03\")]"
   ]
  },
  {
   "cell_type": "code",
   "execution_count": 19,
   "metadata": {
    "collapsed": false
   },
   "outputs": [
    {
     "data": {
      "text/plain": [
       "[Timestamp('2000-01-01 00:00:00'),\n",
       " Timestamp('2000-01-02 00:00:00'),\n",
       " Timestamp('2000-01-03 00:00:00')]"
      ]
     },
     "execution_count": 19,
     "metadata": {},
     "output_type": "execute_result"
    }
   ],
   "source": [
    "index"
   ]
  },
  {
   "cell_type": "code",
   "execution_count": 20,
   "metadata": {
    "collapsed": false
   },
   "outputs": [
    {
     "data": {
      "text/plain": [
       "2000-01-01    0.089240\n",
       "2000-01-02   -1.472215\n",
       "2000-01-03    0.109225\n",
       "dtype: float64"
      ]
     },
     "execution_count": 20,
     "metadata": {},
     "output_type": "execute_result"
    }
   ],
   "source": [
    "ts = pd.Series(np.random.randn(len(index)), index=index)\n",
    "ts"
   ]
  },
  {
   "cell_type": "code",
   "execution_count": 21,
   "metadata": {
    "collapsed": false
   },
   "outputs": [
    {
     "data": {
      "text/plain": [
       "DatetimeIndex(['2000-01-01', '2000-01-02', '2000-01-03'], dtype='datetime64[ns]', freq=None)"
      ]
     },
     "execution_count": 21,
     "metadata": {},
     "output_type": "execute_result"
    }
   ],
   "source": [
    "ts.index"
   ]
  },
  {
   "cell_type": "markdown",
   "metadata": {},
   "source": [
    "- There are a few things to note here: We create a list of <strong> timestamp objects </strong> and pass\n",
    "it to the <strong> series constructor </strong> as <strong>index </strong>. <strong>This list of timestamps gets converted into a\n",
    "DatetimeIndex on the ﬂy. If we had passed only the date strings, we would not\n",
    "get a DatetimeIndex, just an index:</strong>"
   ]
  },
  {
   "cell_type": "code",
   "execution_count": 22,
   "metadata": {
    "collapsed": false
   },
   "outputs": [
    {
     "data": {
      "text/plain": [
       "2000-01-01   -0.569081\n",
       "2000-01-02   -1.144054\n",
       "2000-01-03    0.617624\n",
       "dtype: float64"
      ]
     },
     "execution_count": 22,
     "metadata": {},
     "output_type": "execute_result"
    }
   ],
   "source": [
    " ts = pd.Series(np.random.randn(len(index)), index=[\"2000-01-01\", \"2000-01-02\", \"2000-01-03\"])\n",
    "ts"
   ]
  },
  {
   "cell_type": "code",
   "execution_count": 23,
   "metadata": {
    "collapsed": false
   },
   "outputs": [
    {
     "data": {
      "text/plain": [
       "Index(['2000-01-01', '2000-01-02', '2000-01-03'], dtype='object')"
      ]
     },
     "execution_count": 23,
     "metadata": {},
     "output_type": "execute_result"
    }
   ],
   "source": [
    "ts.index"
   ]
  },
  {
   "cell_type": "markdown",
   "metadata": {},
   "source": [
    "- However, the to_datetime function is ﬂexible enough to be of help, if all we have\n",
    "is a list of date strings:"
   ]
  },
  {
   "cell_type": "code",
   "execution_count": 24,
   "metadata": {
    "collapsed": true
   },
   "outputs": [],
   "source": [
    "index = pd.to_datetime([\"2000-01-01\", \"2000-01-02\", \"2000-01-03\"])"
   ]
  },
  {
   "cell_type": "code",
   "execution_count": 25,
   "metadata": {
    "collapsed": true
   },
   "outputs": [],
   "source": [
    "index = pd.to_datetime([\"2000-01-01\", \"2000-01-02\", \"2000-01-03\"])"
   ]
  },
  {
   "cell_type": "code",
   "execution_count": 26,
   "metadata": {
    "collapsed": false
   },
   "outputs": [
    {
     "data": {
      "text/plain": [
       "Index(['2000-01-01', '2000-01-02', '2000-01-03'], dtype='object')"
      ]
     },
     "execution_count": 26,
     "metadata": {},
     "output_type": "execute_result"
    }
   ],
   "source": [
    "ts.index"
   ]
  },
  {
   "cell_type": "markdown",
   "metadata": {},
   "source": [
    "- Another thing to note is that while we have a DatetimeIndex, the freq and tz\n",
    "attributes are both None. We will learn about the utility of both attributes later\n",
    "in this chapter."
   ]
  },
  {
   "cell_type": "markdown",
   "metadata": {},
   "source": [
    "- With to_datetime we are able to convert a variety of strings and even lists of strings\n",
    "into timestamp or DatetimeIndex objects. Sometimes we are not explicitly given all\n",
    "the information about a series and we have to generate sequences of time stamps of\n",
    "fxed intervals ourselves."
   ]
  },
  {
   "cell_type": "markdown",
   "metadata": {},
   "source": [
    "### Pandas offer another great utility function for this task: date_range"
   ]
  },
  {
   "cell_type": "markdown",
   "metadata": {
    "collapsed": false
   },
   "source": [
    "pd.date_range(start=\"2000-01-01\", periods=3, freq='S')"
   ]
  },
  {
   "cell_type": "markdown",
   "metadata": {},
   "source": [
    "#### S Secondly frequency"
   ]
  },
  {
   "cell_type": "code",
   "execution_count": 27,
   "metadata": {
    "collapsed": false
   },
   "outputs": [
    {
     "data": {
      "text/plain": [
       "DatetimeIndex(['2000-01-01 00:00:00', '2000-01-01 01:00:00',\n",
       "               '2000-01-01 02:00:00', '2000-01-01 03:00:00'],\n",
       "              dtype='datetime64[ns]', freq='H')"
      ]
     },
     "execution_count": 27,
     "metadata": {},
     "output_type": "execute_result"
    }
   ],
   "source": [
    "pd.date_range(start=\"2000-01-01\", periods=4, freq='H')"
   ]
  },
  {
   "cell_type": "markdown",
   "metadata": {},
   "source": [
    "#### S Secondly frequency"
   ]
  },
  {
   "cell_type": "code",
   "execution_count": 28,
   "metadata": {
    "collapsed": false
   },
   "outputs": [
    {
     "data": {
      "text/plain": [
       "DatetimeIndex(['2000-01-31', '2000-02-29', '2000-03-31'], dtype='datetime64[ns]', freq='M')"
      ]
     },
     "execution_count": 28,
     "metadata": {},
     "output_type": "execute_result"
    }
   ],
   "source": [
    "pd.date_range(start=\"2000-01-01\", periods=3, freq='M')"
   ]
  },
  {
   "cell_type": "markdown",
   "metadata": {},
   "source": [
    "#### H Hourly frequency"
   ]
  },
  {
   "cell_type": "code",
   "execution_count": 29,
   "metadata": {
    "collapsed": false
   },
   "outputs": [
    {
     "data": {
      "text/plain": [
       "DatetimeIndex(['2000-01-01 00:00:00', '2000-01-01 00:01:00',\n",
       "               '2000-01-01 00:02:00'],\n",
       "              dtype='datetime64[ns]', freq='T')"
      ]
     },
     "execution_count": 29,
     "metadata": {},
     "output_type": "execute_result"
    }
   ],
   "source": [
    "pd.date_range(start=\"2000-01-01\", periods=3, freq='T')"
   ]
  },
  {
   "cell_type": "markdown",
   "metadata": {},
   "source": [
    "#### T Minutely frequency"
   ]
  },
  {
   "cell_type": "markdown",
   "metadata": {},
   "source": [
    "- <strong> periods  </strong>: integer or None, default None\n",
    "    If None, must specify start and end.\n",
    "    \n",
    "- <strong> freq  </strong>: string or DateOffset, default 'D' (calendar daily)\n",
    "    Frequency strings can have multiples, e.g. '5H'"
   ]
  },
  {
   "cell_type": "markdown",
   "metadata": {},
   "source": [
    "The <strong> freq </strong> attribute allows us to specify a multitude of options. Pandas has been\n",
    "used successfully in fnance and economics, not least because it is really simple to\n",
    "work with business dates as well. As an example, to get an index with the frst three\n",
    "business days of the millennium, the B offset alias can be used:"
   ]
  },
  {
   "cell_type": "code",
   "execution_count": 30,
   "metadata": {
    "collapsed": false,
    "scrolled": true
   },
   "outputs": [
    {
     "data": {
      "text/plain": [
       "DatetimeIndex(['2000-01-03', '2000-01-04', '2000-01-05'], dtype='datetime64[ns]', freq='B')"
      ]
     },
     "execution_count": 30,
     "metadata": {},
     "output_type": "execute_result"
    }
   ],
   "source": [
    "pd.date_range(start=\"2000-01-01\", periods=3, freq='B')"
   ]
  },
  {
   "cell_type": "markdown",
   "metadata": {},
   "source": [
    "#### B Business day frequency"
   ]
  },
  {
   "cell_type": "code",
   "execution_count": 31,
   "metadata": {
    "collapsed": false
   },
   "outputs": [
    {
     "data": {
      "text/plain": [
       "DatetimeIndex(['2000-01-01 00:00:00', '2000-01-02 01:01:10',\n",
       "               '2000-01-03 02:02:20', '2000-01-04 03:03:30',\n",
       "               '2000-01-05 04:04:40'],\n",
       "              dtype='datetime64[ns]', freq='90070S')"
      ]
     },
     "execution_count": 31,
     "metadata": {},
     "output_type": "execute_result"
    }
   ],
   "source": [
    "pd.date_range(start=\"2000-01-01\", periods=5, freq='1D1h1min10s')"
   ]
  },
  {
   "cell_type": "markdown",
   "metadata": {},
   "source": [
    "- Moreover, The offset aliases can be used in combination as well. Here, we are\n",
    "generating a datetime index with fve elements, each one day, one hour, one minute\n",
    "and one second apart:"
   ]
  },
  {
   "cell_type": "code",
   "execution_count": 32,
   "metadata": {
    "collapsed": false
   },
   "outputs": [
    {
     "data": {
      "text/plain": [
       "DatetimeIndex(['2000-01-03 09:00:00', '2000-01-04 13:00:00',\n",
       "               '2000-01-06 09:00:00', '2000-01-07 13:00:00',\n",
       "               '2000-01-11 09:00:00'],\n",
       "              dtype='datetime64[ns]', freq='12BH')"
      ]
     },
     "execution_count": 32,
     "metadata": {},
     "output_type": "execute_result"
    }
   ],
   "source": [
    "pd.date_range(start=\"2000-01-01\", periods=5, freq='12BH')"
   ]
  },
  {
   "cell_type": "markdown",
   "metadata": {},
   "source": [
    "- If we want to index data every 12 hours of our business time, which by default starts\n",
    "at 9 AM and ends at 5 PM, we would simply prefx the BH alias:"
   ]
  },
  {
   "cell_type": "code",
   "execution_count": 33,
   "metadata": {
    "collapsed": false
   },
   "outputs": [
    {
     "data": {
      "text/plain": [
       "Index(['2000-01-01', '2000-01-02', '2000-01-03'], dtype='object')"
      ]
     },
     "execution_count": 33,
     "metadata": {},
     "output_type": "execute_result"
    }
   ],
   "source": [
    "ts.index"
   ]
  },
  {
   "cell_type": "code",
   "execution_count": 34,
   "metadata": {
    "collapsed": false
   },
   "outputs": [
    {
     "data": {
      "text/plain": [
       "DatetimeIndex(['2000-01-07', '2000-01-14', '2000-01-21', '2000-01-28',\n",
       "               '2000-02-04'],\n",
       "              dtype='datetime64[ns]', freq='W-FRI')"
      ]
     },
     "execution_count": 34,
     "metadata": {},
     "output_type": "execute_result"
    }
   ],
   "source": [
    "pd.date_range(start=\"2000-01-01\", periods=5, freq='W-FRI')"
   ]
  },
  {
   "cell_type": "markdown",
   "metadata": {},
   "source": [
    "- Some frequencies allow us to specify an anchoring suffx, which allows us to express intervals, such as every <strong> Friday </strong> or  <strong> every second Tuesday </strong> of the month:"
   ]
  },
  {
   "cell_type": "code",
   "execution_count": 35,
   "metadata": {
    "collapsed": false
   },
   "outputs": [
    {
     "data": {
      "text/plain": [
       "DatetimeIndex(['2017-12-12', '2018-01-09', '2018-02-13', '2018-03-13',\n",
       "               '2018-04-10', '2018-05-08'],\n",
       "              dtype='datetime64[ns]', freq='WOM-2TUE')"
      ]
     },
     "execution_count": 35,
     "metadata": {},
     "output_type": "execute_result"
    }
   ],
   "source": [
    "pd.date_range(start=\"12-12-2017\",periods=6,freq=\"WOM-2TUE\")"
   ]
  },
  {
   "cell_type": "markdown",
   "metadata": {
    "collapsed": true
   },
   "source": [
    "Tham khảo tại: http://pandas.pydata.org/pandas-docs/stable/timeseries.html#offset-aliases"
   ]
  },
  {
   "cell_type": "code",
   "execution_count": 42,
   "metadata": {
    "collapsed": false
   },
   "outputs": [
    {
     "data": {
      "text/html": [
       "<img src=\"https://github.com/TrinhDinhPhuc/Miscellaneous-Python-Project/blob/master/Time_Series/series.png\"/>"
      ],
      "text/plain": [
       "<IPython.core.display.Image object>"
      ]
     },
     "execution_count": 42,
     "metadata": {},
     "output_type": "execute_result"
    }
   ],
   "source": [
    "from IPython.display import Image\n",
    "from IPython.core.display import HTML \n",
    "Image(url= \"https://github.com/TrinhDinhPhuc/Miscellaneous-Python-Project/blob/master/Time_Series/series.png\")\n"
   ]
  },
  {
   "cell_type": "markdown",
   "metadata": {
    "collapsed": true
   },
   "source": [
    "<br><br><center><h1 style=\"font-size:2em;color:#2467C0\">Offset Aliases</h1></center>\n",
    "<br>\n",
    "<img src=\"https://github.com/TrinhDinhPhuc/Miscellaneous-Python-Project/blob/master/Time_Series/series.png\" align=\"middle\" style=\"width:550px;height:360px;\"/>\n"
   ]
  },
  {
   "cell_type": "markdown",
   "metadata": {},
   "source": [
    "----------------------------------------------------------------------------------------------------"
   ]
  },
  {
   "cell_type": "markdown",
   "metadata": {
    "collapsed": true
   },
   "source": [
    "### MOREOVER, THE OFFSET ALIASES CAN BE USED IN COMBINATION AS WELL"
   ]
  },
  {
   "cell_type": "markdown",
   "metadata": {
    "collapsed": true
   },
   "source": [
    "* Here i'm generating a datetime index with five elements, each one day, one hour, one minutes and one second apart * "
   ]
  },
  {
   "cell_type": "code",
   "execution_count": 44,
   "metadata": {
    "collapsed": false
   },
   "outputs": [
    {
     "data": {
      "text/plain": [
       "DatetimeIndex(['2017-12-26 00:00:00', '2017-12-27 01:01:10',\n",
       "               '2017-12-28 02:02:20', '2017-12-29 03:03:30',\n",
       "               '2017-12-30 04:04:40'],\n",
       "              dtype='datetime64[ns]', freq='90070S')"
      ]
     },
     "execution_count": 44,
     "metadata": {},
     "output_type": "execute_result"
    }
   ],
   "source": [
    "pd.date_range(start=\"2017-12-26\",periods=5,freq=\"1D1h1min10s\")"
   ]
  },
  {
   "cell_type": "markdown",
   "metadata": {
    "collapsed": true
   },
   "source": [
    "if we want to index data <strong> every 12 hours </strong> of our bussiness time, which by default starts at 9am and ends at 5pm, we would simply prefix the BH alias"
   ]
  },
  {
   "cell_type": "code",
   "execution_count": 45,
   "metadata": {
    "collapsed": false
   },
   "outputs": [
    {
     "data": {
      "text/plain": [
       "DatetimeIndex(['2017-12-26 09:00:00', '2017-12-27 13:00:00',\n",
       "               '2017-12-29 09:00:00', '2018-01-01 13:00:00',\n",
       "               '2018-01-03 09:00:00'],\n",
       "              dtype='datetime64[ns]', freq='12BH')"
      ]
     },
     "execution_count": 45,
     "metadata": {},
     "output_type": "execute_result"
    }
   ],
   "source": [
    "pd.date_range(start=\"2017-12-26\",periods=5,freq=\"12BH\")"
   ]
  },
  {
   "cell_type": "code",
   "execution_count": 46,
   "metadata": {
    "collapsed": false
   },
   "outputs": [
    {
     "data": {
      "text/plain": [
       "DatetimeIndex(['2017-11-17', '2017-11-24', '2017-12-01', '2017-12-08',\n",
       "               '2017-12-15'],\n",
       "              dtype='datetime64[ns]', freq='W-FRI')"
      ]
     },
     "execution_count": 46,
     "metadata": {},
     "output_type": "execute_result"
    }
   ],
   "source": [
    "pd.date_range(start=\"2017/11/11\",periods=5,freq=\"W-FRI\")"
   ]
  },
  {
   "cell_type": "code",
   "execution_count": 49,
   "metadata": {
    "collapsed": false
   },
   "outputs": [
    {
     "data": {
      "text/plain": [
       "DatetimeIndex(['2017-11-14', '2017-12-12', '2018-01-09', '2018-02-13',\n",
       "               '2018-03-13'],\n",
       "              dtype='datetime64[ns]', freq='WOM-2TUE')"
      ]
     },
     "execution_count": 49,
     "metadata": {},
     "output_type": "execute_result"
    }
   ],
   "source": [
    "pd.date_range(start=\"2017/11/11\",periods=5,freq=\"WOM-2TUE\")"
   ]
  },
  {
   "cell_type": "markdown",
   "metadata": {
    "collapsed": true
   },
   "source": [
    "### Lưu ý:\n",
    "- ko phân biệt \"?\" hoặc \"/\""
   ]
  },
  {
   "cell_type": "markdown",
   "metadata": {},
   "source": [
    "----------------------------------------------------------------------------------------------------"
   ]
  },
  {
   "cell_type": "markdown",
   "metadata": {},
   "source": [
    "### BAS (BUSINESS YEAR START FREQUENCY)"
   ]
  },
  {
   "cell_type": "code",
   "execution_count": 61,
   "metadata": {
    "collapsed": false
   },
   "outputs": [
    {
     "data": {
      "text/plain": [
       "DatetimeIndex(['2018-01-01', '2019-01-01', '2020-01-01', '2021-01-01',\n",
       "               '2022-01-03'],\n",
       "              dtype='datetime64[ns]', freq='BAS-JAN')"
      ]
     },
     "execution_count": 61,
     "metadata": {},
     "output_type": "execute_result"
    }
   ],
   "source": [
    "s= pd.date_range(start=\"2017/12/12\",periods=5,freq=\"BAS-JAN\")\n",
    "s"
   ]
  },
  {
   "cell_type": "markdown",
   "metadata": {
    "collapsed": true
   },
   "source": [
    "### A (YEAR END FREQUENCY)"
   ]
  },
  {
   "cell_type": "code",
   "execution_count": 60,
   "metadata": {
    "collapsed": false
   },
   "outputs": [
    {
     "data": {
      "text/plain": [
       "DatetimeIndex(['2018-02-28', '2019-02-28', '2020-02-29', '2021-02-28',\n",
       "               '2022-02-28'],\n",
       "              dtype='datetime64[ns]', freq='A-FEB')"
      ]
     },
     "execution_count": 60,
     "metadata": {},
     "output_type": "execute_result"
    }
   ],
   "source": [
    "t=pd.date_range(start=\"2017/05/06\",periods=5,freq=\"A-FEB\")\n",
    "t"
   ]
  },
  {
   "cell_type": "code",
   "execution_count": 62,
   "metadata": {
    "collapsed": false
   },
   "outputs": [
    {
     "data": {
      "text/plain": [
       "DatetimeIndex(['2018-01-01', '2018-02-28', '2019-01-01', '2019-02-28',\n",
       "               '2020-01-01', '2020-02-29', '2021-01-01', '2021-02-28',\n",
       "               '2022-01-03', '2022-02-28'],\n",
       "              dtype='datetime64[ns]', freq=None)"
      ]
     },
     "execution_count": 62,
     "metadata": {},
     "output_type": "execute_result"
    }
   ],
   "source": [
    "s.union(t)"
   ]
  },
  {
   "cell_type": "markdown",
   "metadata": {
    "collapsed": true
   },
   "source": [
    "### Let's dive into Time Series by frist showing how you can create a plot time series"
   ]
  },
  {
   "cell_type": "code",
   "execution_count": 84,
   "metadata": {
    "collapsed": false
   },
   "outputs": [],
   "source": [
    "index = pd.date_range(start=\"2017-10-22\",periods=200,freq=\"B\")   # B ((Bussines day frequency))"
   ]
  },
  {
   "cell_type": "code",
   "execution_count": 85,
   "metadata": {
    "collapsed": true
   },
   "outputs": [],
   "source": [
    "ts = pd.Series(np.random.randn(len(index)),index=index)"
   ]
  },
  {
   "cell_type": "code",
   "execution_count": 86,
   "metadata": {
    "collapsed": false
   },
   "outputs": [
    {
     "data": {
      "text/plain": [
       "<bound method Series.cumsum of 2017-10-23   -0.647055\n",
       "2017-10-24   -0.146020\n",
       "2017-10-25    0.373790\n",
       "2017-10-26    0.721025\n",
       "2017-10-27    0.365454\n",
       "2017-10-30    0.590625\n",
       "2017-10-31   -1.792590\n",
       "2017-11-01   -1.015488\n",
       "2017-11-02    2.192147\n",
       "2017-11-03    0.668881\n",
       "2017-11-06    0.701218\n",
       "2017-11-07   -1.337673\n",
       "2017-11-08   -0.645604\n",
       "2017-11-09   -1.510165\n",
       "2017-11-10   -1.818318\n",
       "2017-11-13   -0.970190\n",
       "2017-11-14    0.045615\n",
       "2017-11-15    1.369266\n",
       "2017-11-16    0.837486\n",
       "2017-11-17   -0.033139\n",
       "2017-11-20   -0.132577\n",
       "2017-11-21    0.457524\n",
       "2017-11-22   -0.727425\n",
       "2017-11-23    0.782033\n",
       "2017-11-24    1.308322\n",
       "2017-11-27    0.686307\n",
       "2017-11-28    0.792428\n",
       "2017-11-29    0.289978\n",
       "2017-11-30    1.323077\n",
       "2017-12-01   -0.428529\n",
       "                ...   \n",
       "2018-06-18    2.045383\n",
       "2018-06-19    0.210520\n",
       "2018-06-20   -2.462301\n",
       "2018-06-21   -0.245835\n",
       "2018-06-22    0.803075\n",
       "2018-06-25   -1.069897\n",
       "2018-06-26    0.522203\n",
       "2018-06-27    0.237758\n",
       "2018-06-28    0.316427\n",
       "2018-06-29   -0.091930\n",
       "2018-07-02    0.668420\n",
       "2018-07-03    2.045452\n",
       "2018-07-04    0.680146\n",
       "2018-07-05   -0.395878\n",
       "2018-07-06    0.816159\n",
       "2018-07-09    0.719581\n",
       "2018-07-10   -1.082688\n",
       "2018-07-11   -0.635416\n",
       "2018-07-12    0.058252\n",
       "2018-07-13   -0.104862\n",
       "2018-07-16    0.330745\n",
       "2018-07-17    0.376311\n",
       "2018-07-18   -1.780434\n",
       "2018-07-19    0.923291\n",
       "2018-07-20   -0.889480\n",
       "2018-07-23   -0.978528\n",
       "2018-07-24    1.409138\n",
       "2018-07-25   -0.378003\n",
       "2018-07-26    0.425471\n",
       "2018-07-27    1.037760\n",
       "Freq: B, dtype: float64>"
      ]
     },
     "execution_count": 86,
     "metadata": {},
     "output_type": "execute_result"
    }
   ],
   "source": [
    "walk=ts.cumsum\n",
    "walk"
   ]
  },
  {
   "cell_type": "code",
   "execution_count": 87,
   "metadata": {
    "collapsed": false
   },
   "outputs": [],
   "source": [
    "import matplotlib.pylab as plt\n"
   ]
  },
  {
   "cell_type": "code",
   "execution_count": 101,
   "metadata": {
    "collapsed": false
   },
   "outputs": [
    {
     "data": {
      "text/plain": [
       "[<matplotlib.lines.Line2D at 0x3b1646780>]"
      ]
     },
     "execution_count": 101,
     "metadata": {},
     "output_type": "execute_result"
    },
    {
     "data": {
      "image/png": "[encoded data removed]",
      "text/plain": [
       "<matplotlib.figure.Figure at 0x3b14b3470>"
      ]
     },
     "metadata": {},
     "output_type": "display_data"
    }
   ],
   "source": [
    "plt.figure(dpi=80,edgecolor=\"k\",facecolor='r',figsize=(13,6))\n",
    "plt.plot(ts)"
   ]
  },
  {
   "cell_type": "markdown",
   "metadata": {},
   "source": [
    "---------------------------------------------------------------------------------------------"
   ]
  },
  {
   "cell_type": "code",
   "execution_count": 100,
   "metadata": {
    "collapsed": false
   },
   "outputs": [
    {
     "data": {
      "text/plain": [
       "[<matplotlib.lines.Line2D at 0x3b128b6d8>]"
      ]
     },
     "execution_count": 100,
     "metadata": {},
     "output_type": "execute_result"
    },
    {
     "data": {
      "image/png": "[encoded data removed]",
      "text/plain": [
       "<matplotlib.figure.Figure at 0x3ae6ef6a0>"
      ]
     },
     "metadata": {},
     "output_type": "display_data"
    }
   ],
   "source": [
    "index = pd.date_range(start=\"2017/01/01\",periods=200,freq=\"B\")   # B ((Bussines day frequency))\n",
    "ts = pd.Series(np.random.randn(len(index)),index=index)\n",
    "loai2=ts.cumsum()\n",
    "plt.figure(dpi=80,edgecolor='w',facecolor='r',figsize=(13,6))\n",
    "plt.plot(loai2)"
   ]
  },
  {
   "cell_type": "code",
   "execution_count": null,
   "metadata": {
    "collapsed": true
   },
   "outputs": [],
   "source": []
  }
 ],
 "metadata": {
  "kernelspec": {
   "display_name": "Python 3",
   "language": "python",
   "name": "python3"
  },
  "language_info": {
   "codemirror_mode": {
    "name": "ipython",
    "version": 3
   },
   "file_extension": ".py",
   "mimetype": "text/x-python",
   "name": "python",
   "nbconvert_exporter": "python",
   "pygments_lexer": "ipython3",
   "version": "3.6.0"
  }
 },
 "nbformat": 4,
 "nbformat_minor": 2
}
